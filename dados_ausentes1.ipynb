{
  "cells": [
    {
      "cell_type": "markdown",
      "metadata": {
        "id": "7GlxBFBsxvDu"
      },
      "source": [
        "# Dados ausentes Wine1\n",
        "# 0. Índice <a name=\"Contents\"></a>\n",
        "1. [Importando bibliotecas](#import)\n",
        "2. [Construindo um dataframe](#read)\n",
        "3. [Identificando dados ausentes/missing](#identificando)\n",
        "4. [Tratando dados ausentes/missing](#tratando)\n",
        "5. [Dados duplicados](#duplicados)\n",
        "6. [Mapeamento](#map)\n",
        "\n"
      ]
    },
    {
      "cell_type": "markdown",
      "metadata": {
        "id": "zmKPl87kxvDz"
      },
      "source": [
        "# 1. Importando bibliotecas <a name=\"import\"></a>\n",
        "\n",
        "<div style=\"text-align: right\"\n",
        "     \n",
        "[Voltar ao índice](#Contents)"
      ]
    },
    {
      "cell_type": "code",
      "execution_count": null,
      "metadata": {
        "ExecuteTime": {
          "end_time": "2021-06-06T21:12:37.298706Z",
          "start_time": "2021-06-06T21:12:36.656481Z"
        },
        "id": "hAGLpCiCxvDz"
      },
      "outputs": [],
      "source": [
        "import pandas as pd\n",
        "import numpy as np"
      ]
    },
    {
      "cell_type": "markdown",
      "metadata": {
        "id": "zydJcCl9xvD0"
      },
      "source": [
        "# 2. Construindo um dataframe <a name=\"read\"></a>\n",
        "<div style=\"text-align: right\"\n",
        "     \n",
        "[Voltar ao índice](#Contents)"
      ]
    },
    {
      "cell_type": "code",
      "execution_count": null,
      "metadata": {
        "ExecuteTime": {
          "end_time": "2021-06-06T21:12:37.762376Z",
          "start_time": "2021-06-06T21:12:37.728383Z"
        },
        "id": "2_rx5hnRxvD0",
        "outputId": "f97c9353-96f1-4dfe-a545-18aca2c5435e"
      },
      "outputs": [
        {
          "data": {
            "text/html": [
              "<div>\n",
              "<style scoped>\n",
              "    .dataframe tbody tr th:only-of-type {\n",
              "        vertical-align: middle;\n",
              "    }\n",
              "\n",
              "    .dataframe tbody tr th {\n",
              "        vertical-align: top;\n",
              "    }\n",
              "\n",
              "    .dataframe thead th {\n",
              "        text-align: right;\n",
              "    }\n",
              "</style>\n",
              "<table border=\"1\" class=\"dataframe\">\n",
              "  <thead>\n",
              "    <tr style=\"text-align: right;\">\n",
              "      <th></th>\n",
              "      <th>coluna1</th>\n",
              "      <th>coluna2</th>\n",
              "      <th>coluna3</th>\n",
              "      <th>coluna4</th>\n",
              "    </tr>\n",
              "  </thead>\n",
              "  <tbody>\n",
              "    <tr>\n",
              "      <th>A</th>\n",
              "      <td>-118.551082</td>\n",
              "      <td>-18.383722</td>\n",
              "      <td>186.381203</td>\n",
              "      <td>-61.232641</td>\n",
              "    </tr>\n",
              "    <tr>\n",
              "      <th>B</th>\n",
              "      <td>-129.152618</td>\n",
              "      <td>-69.742920</td>\n",
              "      <td>45.581642</td>\n",
              "      <td>21.188931</td>\n",
              "    </tr>\n",
              "    <tr>\n",
              "      <th>C</th>\n",
              "      <td>-33.829528</td>\n",
              "      <td>58.063794</td>\n",
              "      <td>-86.117953</td>\n",
              "      <td>-63.592763</td>\n",
              "    </tr>\n",
              "    <tr>\n",
              "      <th>D</th>\n",
              "      <td>-93.393465</td>\n",
              "      <td>12.022918</td>\n",
              "      <td>-6.750851</td>\n",
              "      <td>56.692808</td>\n",
              "    </tr>\n",
              "    <tr>\n",
              "      <th>E</th>\n",
              "      <td>178.950535</td>\n",
              "      <td>70.482564</td>\n",
              "      <td>-116.930685</td>\n",
              "      <td>55.241271</td>\n",
              "    </tr>\n",
              "    <tr>\n",
              "      <th>F</th>\n",
              "      <td>-77.869862</td>\n",
              "      <td>38.574749</td>\n",
              "      <td>-19.659363</td>\n",
              "      <td>18.777421</td>\n",
              "    </tr>\n",
              "    <tr>\n",
              "      <th>G</th>\n",
              "      <td>46.149298</td>\n",
              "      <td>20.242477</td>\n",
              "      <td>20.231695</td>\n",
              "      <td>19.320405</td>\n",
              "    </tr>\n",
              "    <tr>\n",
              "      <th>H</th>\n",
              "      <td>76.526270</td>\n",
              "      <td>25.822190</td>\n",
              "      <td>95.488078</td>\n",
              "      <td>133.073151</td>\n",
              "    </tr>\n",
              "    <tr>\n",
              "      <th>I</th>\n",
              "      <td>-34.191503</td>\n",
              "      <td>262.311415</td>\n",
              "      <td>-116.433455</td>\n",
              "      <td>-65.777627</td>\n",
              "    </tr>\n",
              "  </tbody>\n",
              "</table>\n",
              "</div>"
            ],
            "text/plain": [
              "      coluna1     coluna2     coluna3     coluna4\n",
              "A -118.551082  -18.383722  186.381203  -61.232641\n",
              "B -129.152618  -69.742920   45.581642   21.188931\n",
              "C  -33.829528   58.063794  -86.117953  -63.592763\n",
              "D  -93.393465   12.022918   -6.750851   56.692808\n",
              "E  178.950535   70.482564 -116.930685   55.241271\n",
              "F  -77.869862   38.574749  -19.659363   18.777421\n",
              "G   46.149298   20.242477   20.231695   19.320405\n",
              "H   76.526270   25.822190   95.488078  133.073151\n",
              "I  -34.191503  262.311415 -116.433455  -65.777627"
            ]
          },
          "execution_count": 2,
          "metadata": {},
          "output_type": "execute_result"
        }
      ],
      "source": [
        "df = pd.DataFrame(\n",
        "    np.random.randn(9, 4)*100,\n",
        "    index=[\"A\", \"B\", \"C\", \"D\", \"E\", \"F\", \"G\", \"H\", \"I\"],\n",
        "    columns=[\"coluna1\", \"coluna2\", \"coluna3\",\"coluna4\"],\n",
        ")\n",
        "df"
      ]
    },
    {
      "cell_type": "code",
      "execution_count": null,
      "metadata": {
        "ExecuteTime": {
          "end_time": "2021-06-06T21:12:37.905357Z",
          "start_time": "2021-06-06T21:12:37.898346Z"
        },
        "id": "ErKRn9FYxvD1",
        "outputId": "6fdcf6b6-c571-4f2b-e57e-55b913e4a01d"
      },
      "outputs": [
        {
          "data": {
            "text/plain": [
              "coluna1    float64\n",
              "coluna2    float64\n",
              "coluna3    float64\n",
              "coluna4    float64\n",
              "dtype: object"
            ]
          },
          "execution_count": 3,
          "metadata": {},
          "output_type": "execute_result"
        }
      ],
      "source": [
        "df.dtypes"
      ]
    },
    {
      "cell_type": "markdown",
      "metadata": {
        "id": "G09CTWo2xvD1"
      },
      "source": [
        "## Alterando os tipos de dados"
      ]
    },
    {
      "cell_type": "code",
      "execution_count": null,
      "metadata": {
        "ExecuteTime": {
          "end_time": "2021-06-06T21:12:38.347455Z",
          "start_time": "2021-06-06T21:12:38.328485Z"
        },
        "id": "HBsiV9d5xvD1"
      },
      "outputs": [],
      "source": [
        "df['coluna1'] = df['coluna1'].astype(int)"
      ]
    },
    {
      "cell_type": "code",
      "execution_count": null,
      "metadata": {
        "ExecuteTime": {
          "end_time": "2021-06-06T21:12:38.691540Z",
          "start_time": "2021-06-06T21:12:38.682542Z"
        },
        "id": "_vaH890JxvD1",
        "outputId": "d957b96e-bfa5-4df9-986a-5cff02f17edb"
      },
      "outputs": [
        {
          "data": {
            "text/plain": [
              "coluna1      int32\n",
              "coluna2    float64\n",
              "coluna3    float64\n",
              "coluna4    float64\n",
              "dtype: object"
            ]
          },
          "execution_count": 5,
          "metadata": {},
          "output_type": "execute_result"
        }
      ],
      "source": [
        "df.dtypes"
      ]
    },
    {
      "cell_type": "code",
      "execution_count": null,
      "metadata": {
        "ExecuteTime": {
          "end_time": "2021-06-06T21:12:38.880255Z",
          "start_time": "2021-06-06T21:12:38.862253Z"
        },
        "id": "etUvpnVyxvD1"
      },
      "outputs": [],
      "source": [
        "df['coluna3'] = df['coluna3'].astype(str)"
      ]
    },
    {
      "cell_type": "code",
      "execution_count": null,
      "metadata": {
        "ExecuteTime": {
          "end_time": "2021-06-06T21:12:39.053345Z",
          "start_time": "2021-06-06T21:12:39.040378Z"
        },
        "id": "-Omv8vEXxvD2",
        "outputId": "bdf738a5-fd72-4042-eb96-db500b62087d"
      },
      "outputs": [
        {
          "data": {
            "text/plain": [
              "coluna1      int32\n",
              "coluna2    float64\n",
              "coluna3     object\n",
              "coluna4    float64\n",
              "dtype: object"
            ]
          },
          "execution_count": 7,
          "metadata": {},
          "output_type": "execute_result"
        }
      ],
      "source": [
        "df.dtypes"
      ]
    },
    {
      "cell_type": "code",
      "execution_count": null,
      "metadata": {
        "ExecuteTime": {
          "end_time": "2021-06-06T21:12:39.242790Z",
          "start_time": "2021-06-06T21:12:39.218792Z"
        },
        "scrolled": true,
        "id": "18TcgSk5xvD2",
        "outputId": "a9c6c28b-7a5e-4d5a-d4d9-95efcba0a7d7"
      },
      "outputs": [
        {
          "data": {
            "text/html": [
              "<div>\n",
              "<style scoped>\n",
              "    .dataframe tbody tr th:only-of-type {\n",
              "        vertical-align: middle;\n",
              "    }\n",
              "\n",
              "    .dataframe tbody tr th {\n",
              "        vertical-align: top;\n",
              "    }\n",
              "\n",
              "    .dataframe thead th {\n",
              "        text-align: right;\n",
              "    }\n",
              "</style>\n",
              "<table border=\"1\" class=\"dataframe\">\n",
              "  <thead>\n",
              "    <tr style=\"text-align: right;\">\n",
              "      <th></th>\n",
              "      <th>coluna1</th>\n",
              "      <th>coluna2</th>\n",
              "      <th>coluna3</th>\n",
              "      <th>coluna4</th>\n",
              "    </tr>\n",
              "  </thead>\n",
              "  <tbody>\n",
              "    <tr>\n",
              "      <th>A</th>\n",
              "      <td>-118</td>\n",
              "      <td>-18.383722</td>\n",
              "      <td>186.38120308955507</td>\n",
              "      <td>-61.232641</td>\n",
              "    </tr>\n",
              "    <tr>\n",
              "      <th>B</th>\n",
              "      <td>-129</td>\n",
              "      <td>-69.742920</td>\n",
              "      <td>45.581642141865295</td>\n",
              "      <td>21.188931</td>\n",
              "    </tr>\n",
              "    <tr>\n",
              "      <th>C</th>\n",
              "      <td>-33</td>\n",
              "      <td>58.063794</td>\n",
              "      <td>-86.11795280042087</td>\n",
              "      <td>-63.592763</td>\n",
              "    </tr>\n",
              "    <tr>\n",
              "      <th>D</th>\n",
              "      <td>-93</td>\n",
              "      <td>12.022918</td>\n",
              "      <td>-6.750850674351716</td>\n",
              "      <td>56.692808</td>\n",
              "    </tr>\n",
              "    <tr>\n",
              "      <th>E</th>\n",
              "      <td>178</td>\n",
              "      <td>70.482564</td>\n",
              "      <td>-116.93068508885536</td>\n",
              "      <td>55.241271</td>\n",
              "    </tr>\n",
              "    <tr>\n",
              "      <th>F</th>\n",
              "      <td>-77</td>\n",
              "      <td>38.574749</td>\n",
              "      <td>-19.65936251945788</td>\n",
              "      <td>18.777421</td>\n",
              "    </tr>\n",
              "    <tr>\n",
              "      <th>G</th>\n",
              "      <td>46</td>\n",
              "      <td>20.242477</td>\n",
              "      <td>20.23169529823339</td>\n",
              "      <td>19.320405</td>\n",
              "    </tr>\n",
              "    <tr>\n",
              "      <th>H</th>\n",
              "      <td>76</td>\n",
              "      <td>25.822190</td>\n",
              "      <td>95.48807781988319</td>\n",
              "      <td>133.073151</td>\n",
              "    </tr>\n",
              "    <tr>\n",
              "      <th>I</th>\n",
              "      <td>-34</td>\n",
              "      <td>262.311415</td>\n",
              "      <td>-116.43345488943145</td>\n",
              "      <td>-65.777627</td>\n",
              "    </tr>\n",
              "  </tbody>\n",
              "</table>\n",
              "</div>"
            ],
            "text/plain": [
              "   coluna1     coluna2              coluna3     coluna4\n",
              "A     -118  -18.383722   186.38120308955507  -61.232641\n",
              "B     -129  -69.742920   45.581642141865295   21.188931\n",
              "C      -33   58.063794   -86.11795280042087  -63.592763\n",
              "D      -93   12.022918   -6.750850674351716   56.692808\n",
              "E      178   70.482564  -116.93068508885536   55.241271\n",
              "F      -77   38.574749   -19.65936251945788   18.777421\n",
              "G       46   20.242477    20.23169529823339   19.320405\n",
              "H       76   25.822190    95.48807781988319  133.073151\n",
              "I      -34  262.311415  -116.43345488943145  -65.777627"
            ]
          },
          "execution_count": 8,
          "metadata": {},
          "output_type": "execute_result"
        }
      ],
      "source": [
        "df"
      ]
    },
    {
      "cell_type": "markdown",
      "metadata": {
        "id": "GWCu4eRexvD2"
      },
      "source": [
        "## Acrescentando dados faltantes na tabela"
      ]
    },
    {
      "cell_type": "code",
      "execution_count": null,
      "metadata": {
        "ExecuteTime": {
          "end_time": "2021-06-06T21:12:39.573279Z",
          "start_time": "2021-06-06T21:12:39.564267Z"
        },
        "id": "PQ687-gCxvD2",
        "outputId": "49cea1b5-e3d6-4636-cb44-219a1f7a2347"
      },
      "outputs": [
        {
          "data": {
            "text/plain": [
              "'-116.93068508885536'"
            ]
          },
          "execution_count": 9,
          "metadata": {},
          "output_type": "execute_result"
        }
      ],
      "source": [
        "df.iloc[4,2]"
      ]
    },
    {
      "cell_type": "code",
      "execution_count": null,
      "metadata": {
        "ExecuteTime": {
          "end_time": "2021-06-06T21:12:39.746161Z",
          "start_time": "2021-06-06T21:12:39.738166Z"
        },
        "id": "xEMqaCQdxvD2"
      },
      "outputs": [],
      "source": [
        "df.iloc[4,2] = np.nan"
      ]
    },
    {
      "cell_type": "code",
      "execution_count": null,
      "metadata": {
        "ExecuteTime": {
          "end_time": "2021-06-06T21:12:39.934151Z",
          "start_time": "2021-06-06T21:12:39.917147Z"
        },
        "id": "ImLSn4rixvD3",
        "outputId": "a968189f-9f67-4134-f737-fb487c42c368"
      },
      "outputs": [
        {
          "data": {
            "text/html": [
              "<div>\n",
              "<style scoped>\n",
              "    .dataframe tbody tr th:only-of-type {\n",
              "        vertical-align: middle;\n",
              "    }\n",
              "\n",
              "    .dataframe tbody tr th {\n",
              "        vertical-align: top;\n",
              "    }\n",
              "\n",
              "    .dataframe thead th {\n",
              "        text-align: right;\n",
              "    }\n",
              "</style>\n",
              "<table border=\"1\" class=\"dataframe\">\n",
              "  <thead>\n",
              "    <tr style=\"text-align: right;\">\n",
              "      <th></th>\n",
              "      <th>coluna1</th>\n",
              "      <th>coluna2</th>\n",
              "      <th>coluna3</th>\n",
              "      <th>coluna4</th>\n",
              "    </tr>\n",
              "  </thead>\n",
              "  <tbody>\n",
              "    <tr>\n",
              "      <th>A</th>\n",
              "      <td>-118</td>\n",
              "      <td>-18.383722</td>\n",
              "      <td>186.38120308955507</td>\n",
              "      <td>-61.232641</td>\n",
              "    </tr>\n",
              "    <tr>\n",
              "      <th>B</th>\n",
              "      <td>-129</td>\n",
              "      <td>-69.742920</td>\n",
              "      <td>45.581642141865295</td>\n",
              "      <td>21.188931</td>\n",
              "    </tr>\n",
              "    <tr>\n",
              "      <th>C</th>\n",
              "      <td>-33</td>\n",
              "      <td>58.063794</td>\n",
              "      <td>-86.11795280042087</td>\n",
              "      <td>-63.592763</td>\n",
              "    </tr>\n",
              "    <tr>\n",
              "      <th>D</th>\n",
              "      <td>-93</td>\n",
              "      <td>12.022918</td>\n",
              "      <td>-6.750850674351716</td>\n",
              "      <td>56.692808</td>\n",
              "    </tr>\n",
              "    <tr>\n",
              "      <th>E</th>\n",
              "      <td>178</td>\n",
              "      <td>70.482564</td>\n",
              "      <td>NaN</td>\n",
              "      <td>55.241271</td>\n",
              "    </tr>\n",
              "    <tr>\n",
              "      <th>F</th>\n",
              "      <td>-77</td>\n",
              "      <td>38.574749</td>\n",
              "      <td>-19.65936251945788</td>\n",
              "      <td>18.777421</td>\n",
              "    </tr>\n",
              "    <tr>\n",
              "      <th>G</th>\n",
              "      <td>46</td>\n",
              "      <td>20.242477</td>\n",
              "      <td>20.23169529823339</td>\n",
              "      <td>19.320405</td>\n",
              "    </tr>\n",
              "    <tr>\n",
              "      <th>H</th>\n",
              "      <td>76</td>\n",
              "      <td>25.822190</td>\n",
              "      <td>95.48807781988319</td>\n",
              "      <td>133.073151</td>\n",
              "    </tr>\n",
              "    <tr>\n",
              "      <th>I</th>\n",
              "      <td>-34</td>\n",
              "      <td>262.311415</td>\n",
              "      <td>-116.43345488943145</td>\n",
              "      <td>-65.777627</td>\n",
              "    </tr>\n",
              "  </tbody>\n",
              "</table>\n",
              "</div>"
            ],
            "text/plain": [
              "   coluna1     coluna2              coluna3     coluna4\n",
              "A     -118  -18.383722   186.38120308955507  -61.232641\n",
              "B     -129  -69.742920   45.581642141865295   21.188931\n",
              "C      -33   58.063794   -86.11795280042087  -63.592763\n",
              "D      -93   12.022918   -6.750850674351716   56.692808\n",
              "E      178   70.482564                  NaN   55.241271\n",
              "F      -77   38.574749   -19.65936251945788   18.777421\n",
              "G       46   20.242477    20.23169529823339   19.320405\n",
              "H       76   25.822190    95.48807781988319  133.073151\n",
              "I      -34  262.311415  -116.43345488943145  -65.777627"
            ]
          },
          "execution_count": 11,
          "metadata": {},
          "output_type": "execute_result"
        }
      ],
      "source": [
        "df"
      ]
    },
    {
      "cell_type": "code",
      "execution_count": null,
      "metadata": {
        "ExecuteTime": {
          "end_time": "2021-06-06T21:12:40.123274Z",
          "start_time": "2021-06-06T21:12:40.103273Z"
        },
        "id": "7OQRgNsOxvD3"
      },
      "outputs": [],
      "source": [
        "df.iloc[1,0] = np.nan\n",
        "df.iloc[4,0] = np.nan\n",
        "df.iloc[3,0] = np.nan\n",
        "df.iloc[8,0] = np.nan\n",
        "df.iloc[6,0] = np.nan\n",
        "df.iloc[4,3] = np.nan\n",
        "df.iloc[4,3] = np.nan\n",
        "df.iloc[8,3] = np.nan"
      ]
    },
    {
      "cell_type": "code",
      "execution_count": null,
      "metadata": {
        "ExecuteTime": {
          "end_time": "2021-06-06T21:12:40.313753Z",
          "start_time": "2021-06-06T21:12:40.295768Z"
        },
        "id": "J61L2Pi4xvD3",
        "outputId": "9b63d8fb-abc0-41b6-9347-63fc117a70bc"
      },
      "outputs": [
        {
          "data": {
            "text/html": [
              "<div>\n",
              "<style scoped>\n",
              "    .dataframe tbody tr th:only-of-type {\n",
              "        vertical-align: middle;\n",
              "    }\n",
              "\n",
              "    .dataframe tbody tr th {\n",
              "        vertical-align: top;\n",
              "    }\n",
              "\n",
              "    .dataframe thead th {\n",
              "        text-align: right;\n",
              "    }\n",
              "</style>\n",
              "<table border=\"1\" class=\"dataframe\">\n",
              "  <thead>\n",
              "    <tr style=\"text-align: right;\">\n",
              "      <th></th>\n",
              "      <th>coluna1</th>\n",
              "      <th>coluna2</th>\n",
              "      <th>coluna3</th>\n",
              "      <th>coluna4</th>\n",
              "    </tr>\n",
              "  </thead>\n",
              "  <tbody>\n",
              "    <tr>\n",
              "      <th>A</th>\n",
              "      <td>-118.0</td>\n",
              "      <td>-18.383722</td>\n",
              "      <td>186.38120308955507</td>\n",
              "      <td>-61.232641</td>\n",
              "    </tr>\n",
              "    <tr>\n",
              "      <th>B</th>\n",
              "      <td>NaN</td>\n",
              "      <td>-69.742920</td>\n",
              "      <td>45.581642141865295</td>\n",
              "      <td>21.188931</td>\n",
              "    </tr>\n",
              "    <tr>\n",
              "      <th>C</th>\n",
              "      <td>-33.0</td>\n",
              "      <td>58.063794</td>\n",
              "      <td>-86.11795280042087</td>\n",
              "      <td>-63.592763</td>\n",
              "    </tr>\n",
              "    <tr>\n",
              "      <th>D</th>\n",
              "      <td>NaN</td>\n",
              "      <td>12.022918</td>\n",
              "      <td>-6.750850674351716</td>\n",
              "      <td>56.692808</td>\n",
              "    </tr>\n",
              "    <tr>\n",
              "      <th>E</th>\n",
              "      <td>NaN</td>\n",
              "      <td>70.482564</td>\n",
              "      <td>NaN</td>\n",
              "      <td>NaN</td>\n",
              "    </tr>\n",
              "    <tr>\n",
              "      <th>F</th>\n",
              "      <td>-77.0</td>\n",
              "      <td>38.574749</td>\n",
              "      <td>-19.65936251945788</td>\n",
              "      <td>18.777421</td>\n",
              "    </tr>\n",
              "    <tr>\n",
              "      <th>G</th>\n",
              "      <td>NaN</td>\n",
              "      <td>20.242477</td>\n",
              "      <td>20.23169529823339</td>\n",
              "      <td>19.320405</td>\n",
              "    </tr>\n",
              "    <tr>\n",
              "      <th>H</th>\n",
              "      <td>76.0</td>\n",
              "      <td>25.822190</td>\n",
              "      <td>95.48807781988319</td>\n",
              "      <td>133.073151</td>\n",
              "    </tr>\n",
              "    <tr>\n",
              "      <th>I</th>\n",
              "      <td>NaN</td>\n",
              "      <td>262.311415</td>\n",
              "      <td>-116.43345488943145</td>\n",
              "      <td>NaN</td>\n",
              "    </tr>\n",
              "  </tbody>\n",
              "</table>\n",
              "</div>"
            ],
            "text/plain": [
              "   coluna1     coluna2              coluna3     coluna4\n",
              "A   -118.0  -18.383722   186.38120308955507  -61.232641\n",
              "B      NaN  -69.742920   45.581642141865295   21.188931\n",
              "C    -33.0   58.063794   -86.11795280042087  -63.592763\n",
              "D      NaN   12.022918   -6.750850674351716   56.692808\n",
              "E      NaN   70.482564                  NaN         NaN\n",
              "F    -77.0   38.574749   -19.65936251945788   18.777421\n",
              "G      NaN   20.242477    20.23169529823339   19.320405\n",
              "H     76.0   25.822190    95.48807781988319  133.073151\n",
              "I      NaN  262.311415  -116.43345488943145         NaN"
            ]
          },
          "execution_count": 13,
          "metadata": {},
          "output_type": "execute_result"
        }
      ],
      "source": [
        "df"
      ]
    },
    {
      "cell_type": "code",
      "execution_count": null,
      "metadata": {
        "ExecuteTime": {
          "end_time": "2021-06-06T21:12:40.830082Z",
          "start_time": "2021-06-06T21:12:40.811093Z"
        },
        "id": "oIK1LckkxvD3",
        "outputId": "4e23d740-7d6b-4148-d125-ba65c5517780"
      },
      "outputs": [
        {
          "data": {
            "text/plain": [
              "coluna1    float64\n",
              "coluna2    float64\n",
              "coluna3     object\n",
              "coluna4    float64\n",
              "dtype: object"
            ]
          },
          "execution_count": 14,
          "metadata": {},
          "output_type": "execute_result"
        }
      ],
      "source": [
        "# Os tipos de dados podem mudar após acrescentar um dado faltante\n",
        "df.dtypes"
      ]
    },
    {
      "cell_type": "code",
      "execution_count": null,
      "metadata": {
        "id": "rPQhodQvxvD3"
      },
      "outputs": [],
      "source": []
    },
    {
      "cell_type": "code",
      "execution_count": null,
      "metadata": {
        "id": "m9-Ib4WbxvD3"
      },
      "outputs": [],
      "source": []
    },
    {
      "cell_type": "markdown",
      "metadata": {
        "id": "ICg7tBXwxvD3"
      },
      "source": [
        "# 3. Identificando dados ausentes <a name=\"identificando\"></a>\n",
        "<div style=\"text-align: right\"\n",
        "     \n",
        "[Voltar ao índice](#Contents)"
      ]
    },
    {
      "cell_type": "code",
      "execution_count": null,
      "metadata": {
        "ExecuteTime": {
          "end_time": "2021-06-06T21:12:42.301727Z",
          "start_time": "2021-06-06T21:12:42.292736Z"
        },
        "id": "bbT86LUoxvD4",
        "outputId": "5727c2f3-4da6-45f9-ab81-961b440f2aa9"
      },
      "outputs": [
        {
          "data": {
            "text/html": [
              "<div>\n",
              "<style scoped>\n",
              "    .dataframe tbody tr th:only-of-type {\n",
              "        vertical-align: middle;\n",
              "    }\n",
              "\n",
              "    .dataframe tbody tr th {\n",
              "        vertical-align: top;\n",
              "    }\n",
              "\n",
              "    .dataframe thead th {\n",
              "        text-align: right;\n",
              "    }\n",
              "</style>\n",
              "<table border=\"1\" class=\"dataframe\">\n",
              "  <thead>\n",
              "    <tr style=\"text-align: right;\">\n",
              "      <th></th>\n",
              "      <th>coluna1</th>\n",
              "      <th>coluna2</th>\n",
              "      <th>coluna3</th>\n",
              "      <th>coluna4</th>\n",
              "    </tr>\n",
              "  </thead>\n",
              "  <tbody>\n",
              "    <tr>\n",
              "      <th>A</th>\n",
              "      <td>False</td>\n",
              "      <td>False</td>\n",
              "      <td>False</td>\n",
              "      <td>False</td>\n",
              "    </tr>\n",
              "    <tr>\n",
              "      <th>B</th>\n",
              "      <td>True</td>\n",
              "      <td>False</td>\n",
              "      <td>False</td>\n",
              "      <td>False</td>\n",
              "    </tr>\n",
              "    <tr>\n",
              "      <th>C</th>\n",
              "      <td>False</td>\n",
              "      <td>False</td>\n",
              "      <td>False</td>\n",
              "      <td>False</td>\n",
              "    </tr>\n",
              "    <tr>\n",
              "      <th>D</th>\n",
              "      <td>True</td>\n",
              "      <td>False</td>\n",
              "      <td>False</td>\n",
              "      <td>False</td>\n",
              "    </tr>\n",
              "    <tr>\n",
              "      <th>E</th>\n",
              "      <td>True</td>\n",
              "      <td>False</td>\n",
              "      <td>True</td>\n",
              "      <td>True</td>\n",
              "    </tr>\n",
              "    <tr>\n",
              "      <th>F</th>\n",
              "      <td>False</td>\n",
              "      <td>False</td>\n",
              "      <td>False</td>\n",
              "      <td>False</td>\n",
              "    </tr>\n",
              "    <tr>\n",
              "      <th>G</th>\n",
              "      <td>True</td>\n",
              "      <td>False</td>\n",
              "      <td>False</td>\n",
              "      <td>False</td>\n",
              "    </tr>\n",
              "    <tr>\n",
              "      <th>H</th>\n",
              "      <td>False</td>\n",
              "      <td>False</td>\n",
              "      <td>False</td>\n",
              "      <td>False</td>\n",
              "    </tr>\n",
              "    <tr>\n",
              "      <th>I</th>\n",
              "      <td>True</td>\n",
              "      <td>False</td>\n",
              "      <td>False</td>\n",
              "      <td>True</td>\n",
              "    </tr>\n",
              "  </tbody>\n",
              "</table>\n",
              "</div>"
            ],
            "text/plain": [
              "   coluna1  coluna2  coluna3  coluna4\n",
              "A    False    False    False    False\n",
              "B     True    False    False    False\n",
              "C    False    False    False    False\n",
              "D     True    False    False    False\n",
              "E     True    False     True     True\n",
              "F    False    False    False    False\n",
              "G     True    False    False    False\n",
              "H    False    False    False    False\n",
              "I     True    False    False     True"
            ]
          },
          "execution_count": 15,
          "metadata": {},
          "output_type": "execute_result"
        }
      ],
      "source": [
        "df.isna()"
      ]
    },
    {
      "cell_type": "code",
      "execution_count": null,
      "metadata": {
        "ExecuteTime": {
          "end_time": "2021-06-06T21:13:06.490476Z",
          "start_time": "2021-06-06T21:13:06.475491Z"
        },
        "id": "mVbvojVexvD4",
        "outputId": "282f4583-fc3e-4a52-80ad-c640617c800e"
      },
      "outputs": [
        {
          "data": {
            "text/html": [
              "<div>\n",
              "<style scoped>\n",
              "    .dataframe tbody tr th:only-of-type {\n",
              "        vertical-align: middle;\n",
              "    }\n",
              "\n",
              "    .dataframe tbody tr th {\n",
              "        vertical-align: top;\n",
              "    }\n",
              "\n",
              "    .dataframe thead th {\n",
              "        text-align: right;\n",
              "    }\n",
              "</style>\n",
              "<table border=\"1\" class=\"dataframe\">\n",
              "  <thead>\n",
              "    <tr style=\"text-align: right;\">\n",
              "      <th></th>\n",
              "      <th>coluna1</th>\n",
              "      <th>coluna2</th>\n",
              "      <th>coluna3</th>\n",
              "      <th>coluna4</th>\n",
              "    </tr>\n",
              "  </thead>\n",
              "  <tbody>\n",
              "    <tr>\n",
              "      <th>A</th>\n",
              "      <td>False</td>\n",
              "      <td>False</td>\n",
              "      <td>False</td>\n",
              "      <td>False</td>\n",
              "    </tr>\n",
              "    <tr>\n",
              "      <th>B</th>\n",
              "      <td>True</td>\n",
              "      <td>False</td>\n",
              "      <td>False</td>\n",
              "      <td>False</td>\n",
              "    </tr>\n",
              "    <tr>\n",
              "      <th>C</th>\n",
              "      <td>False</td>\n",
              "      <td>False</td>\n",
              "      <td>False</td>\n",
              "      <td>False</td>\n",
              "    </tr>\n",
              "    <tr>\n",
              "      <th>D</th>\n",
              "      <td>True</td>\n",
              "      <td>False</td>\n",
              "      <td>False</td>\n",
              "      <td>False</td>\n",
              "    </tr>\n",
              "    <tr>\n",
              "      <th>E</th>\n",
              "      <td>True</td>\n",
              "      <td>False</td>\n",
              "      <td>True</td>\n",
              "      <td>True</td>\n",
              "    </tr>\n",
              "    <tr>\n",
              "      <th>F</th>\n",
              "      <td>False</td>\n",
              "      <td>False</td>\n",
              "      <td>False</td>\n",
              "      <td>False</td>\n",
              "    </tr>\n",
              "    <tr>\n",
              "      <th>G</th>\n",
              "      <td>True</td>\n",
              "      <td>False</td>\n",
              "      <td>False</td>\n",
              "      <td>False</td>\n",
              "    </tr>\n",
              "    <tr>\n",
              "      <th>H</th>\n",
              "      <td>False</td>\n",
              "      <td>False</td>\n",
              "      <td>False</td>\n",
              "      <td>False</td>\n",
              "    </tr>\n",
              "    <tr>\n",
              "      <th>I</th>\n",
              "      <td>True</td>\n",
              "      <td>False</td>\n",
              "      <td>False</td>\n",
              "      <td>True</td>\n",
              "    </tr>\n",
              "  </tbody>\n",
              "</table>\n",
              "</div>"
            ],
            "text/plain": [
              "   coluna1  coluna2  coluna3  coluna4\n",
              "A    False    False    False    False\n",
              "B     True    False    False    False\n",
              "C    False    False    False    False\n",
              "D     True    False    False    False\n",
              "E     True    False     True     True\n",
              "F    False    False    False    False\n",
              "G     True    False    False    False\n",
              "H    False    False    False    False\n",
              "I     True    False    False     True"
            ]
          },
          "execution_count": 17,
          "metadata": {},
          "output_type": "execute_result"
        }
      ],
      "source": [
        "# Alias do isna\n",
        "df.isnull()"
      ]
    },
    {
      "cell_type": "code",
      "execution_count": null,
      "metadata": {
        "ExecuteTime": {
          "end_time": "2021-05-29T10:33:31.745593Z",
          "start_time": "2021-05-29T10:33:31.736599Z"
        },
        "id": "nVxSwoyFxvD4",
        "outputId": "8285e714-9604-4bab-d309-b406a2d79052"
      },
      "outputs": [
        {
          "data": {
            "text/plain": [
              "A    False\n",
              "B     True\n",
              "C    False\n",
              "D     True\n",
              "E     True\n",
              "F    False\n",
              "G     True\n",
              "H    False\n",
              "I     True\n",
              "Name: coluna1, dtype: bool"
            ]
          },
          "execution_count": 87,
          "metadata": {},
          "output_type": "execute_result"
        }
      ],
      "source": [
        "df['coluna1'].isna()"
      ]
    },
    {
      "cell_type": "code",
      "execution_count": null,
      "metadata": {
        "ExecuteTime": {
          "end_time": "2021-05-29T10:33:38.890443Z",
          "start_time": "2021-05-29T10:33:38.880435Z"
        },
        "id": "cCuQcI19xvD4",
        "outputId": "b95aa0fe-dff2-4b87-f6b4-d12d0eaeac59"
      },
      "outputs": [
        {
          "data": {
            "text/html": [
              "<div>\n",
              "<style scoped>\n",
              "    .dataframe tbody tr th:only-of-type {\n",
              "        vertical-align: middle;\n",
              "    }\n",
              "\n",
              "    .dataframe tbody tr th {\n",
              "        vertical-align: top;\n",
              "    }\n",
              "\n",
              "    .dataframe thead th {\n",
              "        text-align: right;\n",
              "    }\n",
              "</style>\n",
              "<table border=\"1\" class=\"dataframe\">\n",
              "  <thead>\n",
              "    <tr style=\"text-align: right;\">\n",
              "      <th></th>\n",
              "      <th>coluna1</th>\n",
              "      <th>coluna2</th>\n",
              "      <th>coluna3</th>\n",
              "      <th>coluna4</th>\n",
              "    </tr>\n",
              "  </thead>\n",
              "  <tbody>\n",
              "    <tr>\n",
              "      <th>B</th>\n",
              "      <td>NaN</td>\n",
              "      <td>98.455629</td>\n",
              "      <td>-56.63918289481432</td>\n",
              "      <td>137.164956</td>\n",
              "    </tr>\n",
              "    <tr>\n",
              "      <th>D</th>\n",
              "      <td>NaN</td>\n",
              "      <td>-21.026139</td>\n",
              "      <td>-27.933020884056358</td>\n",
              "      <td>87.437026</td>\n",
              "    </tr>\n",
              "    <tr>\n",
              "      <th>E</th>\n",
              "      <td>NaN</td>\n",
              "      <td>192.406008</td>\n",
              "      <td>NaN</td>\n",
              "      <td>NaN</td>\n",
              "    </tr>\n",
              "    <tr>\n",
              "      <th>G</th>\n",
              "      <td>NaN</td>\n",
              "      <td>-96.661886</td>\n",
              "      <td>8.047981030796791</td>\n",
              "      <td>148.596987</td>\n",
              "    </tr>\n",
              "    <tr>\n",
              "      <th>I</th>\n",
              "      <td>NaN</td>\n",
              "      <td>-131.551463</td>\n",
              "      <td>131.37483723481265</td>\n",
              "      <td>NaN</td>\n",
              "    </tr>\n",
              "  </tbody>\n",
              "</table>\n",
              "</div>"
            ],
            "text/plain": [
              "   coluna1     coluna2              coluna3     coluna4\n",
              "B      NaN   98.455629   -56.63918289481432  137.164956\n",
              "D      NaN  -21.026139  -27.933020884056358   87.437026\n",
              "E      NaN  192.406008                  NaN         NaN\n",
              "G      NaN  -96.661886    8.047981030796791  148.596987\n",
              "I      NaN -131.551463   131.37483723481265         NaN"
            ]
          },
          "execution_count": 88,
          "metadata": {},
          "output_type": "execute_result"
        }
      ],
      "source": [
        "df[df['coluna1'].isna()]"
      ]
    },
    {
      "cell_type": "code",
      "execution_count": null,
      "metadata": {
        "ExecuteTime": {
          "end_time": "2021-05-29T10:33:49.406523Z",
          "start_time": "2021-05-29T10:33:49.398526Z"
        },
        "id": "D2dzdCpfxvD4",
        "outputId": "df13ae0d-f776-40e7-e6f9-e6e404cc788a"
      },
      "outputs": [
        {
          "data": {
            "text/html": [
              "<div>\n",
              "<style scoped>\n",
              "    .dataframe tbody tr th:only-of-type {\n",
              "        vertical-align: middle;\n",
              "    }\n",
              "\n",
              "    .dataframe tbody tr th {\n",
              "        vertical-align: top;\n",
              "    }\n",
              "\n",
              "    .dataframe thead th {\n",
              "        text-align: right;\n",
              "    }\n",
              "</style>\n",
              "<table border=\"1\" class=\"dataframe\">\n",
              "  <thead>\n",
              "    <tr style=\"text-align: right;\">\n",
              "      <th></th>\n",
              "      <th>coluna1</th>\n",
              "      <th>coluna2</th>\n",
              "      <th>coluna3</th>\n",
              "      <th>coluna4</th>\n",
              "    </tr>\n",
              "  </thead>\n",
              "  <tbody>\n",
              "    <tr>\n",
              "      <th>A</th>\n",
              "      <td>-23.0</td>\n",
              "      <td>-29.152840</td>\n",
              "      <td>-104.97703793385477</td>\n",
              "      <td>185.956438</td>\n",
              "    </tr>\n",
              "    <tr>\n",
              "      <th>C</th>\n",
              "      <td>0.0</td>\n",
              "      <td>-23.929166</td>\n",
              "      <td>200.88491360300534</td>\n",
              "      <td>1.188890</td>\n",
              "    </tr>\n",
              "    <tr>\n",
              "      <th>F</th>\n",
              "      <td>-132.0</td>\n",
              "      <td>27.891742</td>\n",
              "      <td>-146.61819382562678</td>\n",
              "      <td>69.352880</td>\n",
              "    </tr>\n",
              "    <tr>\n",
              "      <th>H</th>\n",
              "      <td>94.0</td>\n",
              "      <td>-63.401987</td>\n",
              "      <td>-26.482816708266604</td>\n",
              "      <td>-80.205045</td>\n",
              "    </tr>\n",
              "  </tbody>\n",
              "</table>\n",
              "</div>"
            ],
            "text/plain": [
              "   coluna1    coluna2              coluna3     coluna4\n",
              "A    -23.0 -29.152840  -104.97703793385477  185.956438\n",
              "C      0.0 -23.929166   200.88491360300534    1.188890\n",
              "F   -132.0  27.891742  -146.61819382562678   69.352880\n",
              "H     94.0 -63.401987  -26.482816708266604  -80.205045"
            ]
          },
          "execution_count": 89,
          "metadata": {},
          "output_type": "execute_result"
        }
      ],
      "source": [
        "df[~df['coluna1'].isna()]"
      ]
    },
    {
      "cell_type": "code",
      "execution_count": null,
      "metadata": {
        "ExecuteTime": {
          "end_time": "2021-05-29T10:35:24.547767Z",
          "start_time": "2021-05-29T10:35:24.535761Z"
        },
        "id": "tIAzrnvVxvD4",
        "outputId": "4741dd1b-6d9b-4203-d05e-56e81d402486"
      },
      "outputs": [
        {
          "data": {
            "text/plain": [
              "A    -23.0\n",
              "B      NaN\n",
              "C      0.0\n",
              "D      NaN\n",
              "E      NaN\n",
              "F   -132.0\n",
              "G      NaN\n",
              "H     94.0\n",
              "I      NaN\n",
              "Name: coluna1, dtype: float64"
            ]
          },
          "execution_count": 91,
          "metadata": {},
          "output_type": "execute_result"
        }
      ],
      "source": [
        "df['coluna1']"
      ]
    },
    {
      "cell_type": "code",
      "execution_count": null,
      "metadata": {
        "ExecuteTime": {
          "end_time": "2021-05-29T10:35:44.961583Z",
          "start_time": "2021-05-29T10:35:44.951574Z"
        },
        "id": "LoKh9MgyxvD4",
        "outputId": "8683545d-0e1d-49e3-f3be-bb01c4f75aa2"
      },
      "outputs": [
        {
          "data": {
            "text/plain": [
              "A    False\n",
              "B     True\n",
              "C    False\n",
              "D     True\n",
              "E     True\n",
              "F    False\n",
              "G     True\n",
              "H    False\n",
              "I     True\n",
              "Name: coluna1, dtype: bool"
            ]
          },
          "execution_count": 92,
          "metadata": {},
          "output_type": "execute_result"
        }
      ],
      "source": [
        "df['coluna1'].isna()"
      ]
    },
    {
      "cell_type": "code",
      "execution_count": null,
      "metadata": {
        "ExecuteTime": {
          "end_time": "2021-05-29T10:35:18.466672Z",
          "start_time": "2021-05-29T10:35:18.455674Z"
        },
        "id": "cNBGg7kLxvD4",
        "outputId": "30687aaf-6dbd-4ee9-f46b-6d6649225fef"
      },
      "outputs": [
        {
          "data": {
            "text/plain": [
              "5"
            ]
          },
          "execution_count": 90,
          "metadata": {},
          "output_type": "execute_result"
        }
      ],
      "source": [
        "df['coluna1'].isna().sum()"
      ]
    },
    {
      "cell_type": "code",
      "execution_count": null,
      "metadata": {
        "ExecuteTime": {
          "end_time": "2021-05-29T13:38:36.366884Z",
          "start_time": "2021-05-29T13:38:36.345898Z"
        },
        "id": "K4GyIMUtxvD4",
        "outputId": "82dfed98-53a1-4c5f-d707-d9eb9fa8b703"
      },
      "outputs": [
        {
          "data": {
            "text/plain": [
              "coluna1    5\n",
              "coluna2    0\n",
              "coluna3    1\n",
              "coluna4    2\n",
              "dtype: int64"
            ]
          },
          "execution_count": 143,
          "metadata": {},
          "output_type": "execute_result"
        }
      ],
      "source": [
        "df.isna().sum()"
      ]
    },
    {
      "cell_type": "code",
      "execution_count": null,
      "metadata": {
        "ExecuteTime": {
          "end_time": "2021-05-29T10:36:46.574041Z",
          "start_time": "2021-05-29T10:36:46.567015Z"
        },
        "id": "zGrnOhtkxvD5",
        "outputId": "325a8a54-c91f-4d83-bb70-1941d1394d47"
      },
      "outputs": [
        {
          "data": {
            "text/plain": [
              "A    -29.152840\n",
              "B     98.455629\n",
              "C    -23.929166\n",
              "D    -21.026139\n",
              "E    192.406008\n",
              "F     27.891742\n",
              "G    -96.661886\n",
              "H    -63.401987\n",
              "I   -131.551463\n",
              "Name: coluna2, dtype: float64"
            ]
          },
          "execution_count": 97,
          "metadata": {},
          "output_type": "execute_result"
        }
      ],
      "source": [
        "df['coluna2']"
      ]
    },
    {
      "cell_type": "code",
      "execution_count": null,
      "metadata": {
        "ExecuteTime": {
          "end_time": "2021-05-29T10:36:42.849653Z",
          "start_time": "2021-05-29T10:36:42.839658Z"
        },
        "id": "2rcxYFKyxvD5",
        "outputId": "69a05ba1-bb70-4bb8-efde-d42324ca0cd6"
      },
      "outputs": [
        {
          "data": {
            "text/plain": [
              "0"
            ]
          },
          "execution_count": 96,
          "metadata": {},
          "output_type": "execute_result"
        }
      ],
      "source": [
        "df['coluna2'].isna().sum()"
      ]
    },
    {
      "cell_type": "code",
      "execution_count": null,
      "metadata": {
        "ExecuteTime": {
          "end_time": "2021-05-29T14:12:47.717668Z",
          "start_time": "2021-05-29T14:12:47.710684Z"
        },
        "id": "zGRiAgMhxvD5",
        "outputId": "76540213-10c7-463e-f0ec-5270fe42429d"
      },
      "outputs": [
        {
          "data": {
            "text/plain": [
              "coluna1    55.555556\n",
              "coluna2     0.000000\n",
              "coluna3    11.111111\n",
              "coluna4    22.222222\n",
              "dtype: float64"
            ]
          },
          "execution_count": 158,
          "metadata": {},
          "output_type": "execute_result"
        }
      ],
      "source": [
        "percentage = (df.isnull().sum() / len(df)) * 100\n",
        "percentage"
      ]
    },
    {
      "cell_type": "code",
      "execution_count": null,
      "metadata": {
        "id": "98zNIBi_xvD5"
      },
      "outputs": [],
      "source": []
    },
    {
      "cell_type": "markdown",
      "metadata": {
        "id": "FXTrYikPxvD5"
      },
      "source": [
        "# 4. Tratando dados ausentes <a name=\"tratando\"></a>\n",
        "<div style=\"text-align: right\"\n",
        "     \n",
        "[Voltar ao índice](#Contents)"
      ]
    },
    {
      "cell_type": "code",
      "execution_count": null,
      "metadata": {
        "ExecuteTime": {
          "end_time": "2021-05-29T10:41:56.025867Z",
          "start_time": "2021-05-29T10:41:56.013875Z"
        },
        "id": "KjZS1M9QxvD5",
        "outputId": "4b9e38b8-7af2-45eb-a66b-aea88af364ae"
      },
      "outputs": [
        {
          "data": {
            "text/plain": [
              "A    -23.0\n",
              "B      NaN\n",
              "C      0.0\n",
              "D      NaN\n",
              "E      NaN\n",
              "F   -132.0\n",
              "G      NaN\n",
              "H     94.0\n",
              "I      NaN\n",
              "Name: coluna1, dtype: float64"
            ]
          },
          "execution_count": 100,
          "metadata": {},
          "output_type": "execute_result"
        }
      ],
      "source": [
        "df['coluna1']"
      ]
    },
    {
      "cell_type": "markdown",
      "metadata": {
        "id": "fqGpt_vwxvD5"
      },
      "source": [
        "## Substituindo por 0"
      ]
    },
    {
      "cell_type": "code",
      "execution_count": null,
      "metadata": {
        "ExecuteTime": {
          "end_time": "2021-05-29T13:12:06.190474Z",
          "start_time": "2021-05-29T13:12:06.172486Z"
        },
        "scrolled": true,
        "id": "LxDO-jo0xvD5",
        "outputId": "84816378-af56-41ca-8738-a295daa8d123"
      },
      "outputs": [
        {
          "data": {
            "text/plain": [
              "A    -23.0\n",
              "B      0.0\n",
              "C      0.0\n",
              "D      0.0\n",
              "E      0.0\n",
              "F   -132.0\n",
              "G      0.0\n",
              "H     94.0\n",
              "I      0.0\n",
              "Name: coluna1, dtype: float64"
            ]
          },
          "execution_count": 105,
          "metadata": {},
          "output_type": "execute_result"
        }
      ],
      "source": [
        "df['coluna1'].fillna(0)"
      ]
    },
    {
      "cell_type": "markdown",
      "metadata": {
        "id": "GRPE69lrxvD6"
      },
      "source": [
        "## Substituindo pela média"
      ]
    },
    {
      "cell_type": "code",
      "execution_count": null,
      "metadata": {
        "id": "jepMDVnMxvD7"
      },
      "outputs": [],
      "source": [
        "df['coluna1']"
      ]
    },
    {
      "cell_type": "code",
      "execution_count": null,
      "metadata": {
        "ExecuteTime": {
          "end_time": "2021-05-29T13:14:24.140037Z",
          "start_time": "2021-05-29T13:14:24.127037Z"
        },
        "id": "Fn61Ix-wxvD7",
        "outputId": "02fc4693-0957-48a6-82c3-4e0f30d85175"
      },
      "outputs": [
        {
          "data": {
            "text/plain": [
              "-15.25"
            ]
          },
          "execution_count": 111,
          "metadata": {},
          "output_type": "execute_result"
        }
      ],
      "source": [
        "(-23.0-132.0+94.0+0)/4"
      ]
    },
    {
      "cell_type": "code",
      "execution_count": null,
      "metadata": {
        "ExecuteTime": {
          "end_time": "2021-05-29T13:14:25.215007Z",
          "start_time": "2021-05-29T13:14:25.210009Z"
        },
        "id": "UmL__vEYxvD7",
        "outputId": "d4da00b0-3cf0-4066-d64c-050c6ab6f8e5"
      },
      "outputs": [
        {
          "data": {
            "text/plain": [
              "-15.25"
            ]
          },
          "execution_count": 112,
          "metadata": {},
          "output_type": "execute_result"
        }
      ],
      "source": [
        "df['coluna1'].mean()"
      ]
    },
    {
      "cell_type": "code",
      "execution_count": null,
      "metadata": {
        "ExecuteTime": {
          "end_time": "2021-05-29T13:19:57.945165Z",
          "start_time": "2021-05-29T13:19:57.932160Z"
        },
        "id": "P9PtkA_bxvD7"
      },
      "outputs": [],
      "source": [
        "med_col1 = df['coluna1'].mean()"
      ]
    },
    {
      "cell_type": "code",
      "execution_count": null,
      "metadata": {
        "ExecuteTime": {
          "end_time": "2021-05-29T13:20:00.068882Z",
          "start_time": "2021-05-29T13:20:00.058887Z"
        },
        "id": "svF5UxrGxvD7",
        "outputId": "d6ed3294-b7eb-4063-e674-7ccfc4844956"
      },
      "outputs": [
        {
          "data": {
            "text/plain": [
              "A    -23.00\n",
              "B    -15.25\n",
              "C      0.00\n",
              "D    -15.25\n",
              "E    -15.25\n",
              "F   -132.00\n",
              "G    -15.25\n",
              "H     94.00\n",
              "I    -15.25\n",
              "Name: coluna1, dtype: float64"
            ]
          },
          "execution_count": 122,
          "metadata": {},
          "output_type": "execute_result"
        }
      ],
      "source": [
        "df['coluna1'].fillna(med_col1)"
      ]
    },
    {
      "cell_type": "markdown",
      "metadata": {
        "id": "OieIL07cxvD7"
      },
      "source": [
        "## Substituindo pela mediana"
      ]
    },
    {
      "cell_type": "code",
      "execution_count": null,
      "metadata": {
        "ExecuteTime": {
          "end_time": "2021-06-06T21:14:45.257459Z",
          "start_time": "2021-06-06T21:14:45.243466Z"
        },
        "id": "VsrhT3GjxvD7",
        "outputId": "69a1339c-0820-4ae9-cb66-9877b4b21687"
      },
      "outputs": [
        {
          "data": {
            "text/plain": [
              "A   -118.0\n",
              "B      NaN\n",
              "C    -33.0\n",
              "D      NaN\n",
              "E      NaN\n",
              "F    -77.0\n",
              "G      NaN\n",
              "H     76.0\n",
              "I      NaN\n",
              "Name: coluna1, dtype: float64"
            ]
          },
          "execution_count": 19,
          "metadata": {},
          "output_type": "execute_result"
        }
      ],
      "source": [
        "df['coluna1']"
      ]
    },
    {
      "cell_type": "code",
      "execution_count": null,
      "metadata": {
        "ExecuteTime": {
          "end_time": "2021-06-06T21:14:56.142307Z",
          "start_time": "2021-06-06T21:14:56.121324Z"
        },
        "id": "JKLZXGHWxvEC",
        "outputId": "3699aa9e-6e3d-4bfb-a8ac-79b06efa2146"
      },
      "outputs": [
        {
          "data": {
            "text/plain": [
              "A   -118.0\n",
              "F    -77.0\n",
              "C    -33.0\n",
              "H     76.0\n",
              "B      NaN\n",
              "D      NaN\n",
              "E      NaN\n",
              "G      NaN\n",
              "I      NaN\n",
              "Name: coluna1, dtype: float64"
            ]
          },
          "execution_count": 20,
          "metadata": {},
          "output_type": "execute_result"
        }
      ],
      "source": [
        "df['coluna1'].sort_values()"
      ]
    },
    {
      "cell_type": "code",
      "execution_count": null,
      "metadata": {
        "ExecuteTime": {
          "end_time": "2021-06-06T21:15:32.069094Z",
          "start_time": "2021-06-06T21:15:32.056102Z"
        },
        "id": "QNSOhbjsxvED",
        "outputId": "b3de938f-24d0-4ae3-f327-a6d23785206f"
      },
      "outputs": [
        {
          "data": {
            "text/plain": [
              "-55.0"
            ]
          },
          "execution_count": 23,
          "metadata": {},
          "output_type": "execute_result"
        }
      ],
      "source": [
        "(-77-33)/2"
      ]
    },
    {
      "cell_type": "code",
      "execution_count": null,
      "metadata": {
        "ExecuteTime": {
          "end_time": "2021-06-06T21:15:07.810981Z",
          "start_time": "2021-06-06T21:15:07.801973Z"
        },
        "id": "eeDSK3vixvED",
        "outputId": "052bd531-4c89-42a3-a4c4-1df2d3740377"
      },
      "outputs": [
        {
          "data": {
            "text/plain": [
              "-55.0"
            ]
          },
          "execution_count": 21,
          "metadata": {},
          "output_type": "execute_result"
        }
      ],
      "source": [
        "df['coluna1'].median()"
      ]
    },
    {
      "cell_type": "code",
      "execution_count": null,
      "metadata": {
        "ExecuteTime": {
          "end_time": "2021-06-06T21:15:51.332736Z",
          "start_time": "2021-06-06T21:15:51.324736Z"
        },
        "id": "bJbQocIHxvEE"
      },
      "outputs": [],
      "source": [
        "mediana_col1 = df['coluna1'].median()"
      ]
    },
    {
      "cell_type": "code",
      "execution_count": null,
      "metadata": {
        "ExecuteTime": {
          "end_time": "2021-06-06T21:15:51.490564Z",
          "start_time": "2021-06-06T21:15:51.483570Z"
        },
        "id": "4jKOxdo6xvEE",
        "outputId": "38cc97aa-33eb-40d0-a545-6f0aa1db30ca"
      },
      "outputs": [
        {
          "data": {
            "text/plain": [
              "A   -118.0\n",
              "B    -55.0\n",
              "C    -33.0\n",
              "D    -55.0\n",
              "E    -55.0\n",
              "F    -77.0\n",
              "G    -55.0\n",
              "H     76.0\n",
              "I    -55.0\n",
              "Name: coluna1, dtype: float64"
            ]
          },
          "execution_count": 25,
          "metadata": {},
          "output_type": "execute_result"
        }
      ],
      "source": [
        "df['coluna1'].fillna(mediana_col1)"
      ]
    },
    {
      "cell_type": "code",
      "execution_count": null,
      "metadata": {
        "id": "hksEVao_xvEE"
      },
      "outputs": [],
      "source": []
    },
    {
      "cell_type": "code",
      "execution_count": null,
      "metadata": {
        "ExecuteTime": {
          "end_time": "2021-05-29T13:20:11.766007Z",
          "start_time": "2021-05-29T13:20:11.745019Z"
        },
        "id": "KCAiIfTdxvEE",
        "outputId": "0fc170a0-4583-491c-c429-fe9409d2b74d"
      },
      "outputs": [
        {
          "data": {
            "text/plain": [
              "A    -23.0\n",
              "B    -23.0\n",
              "C      0.0\n",
              "D      0.0\n",
              "E      0.0\n",
              "F   -132.0\n",
              "G   -132.0\n",
              "H     94.0\n",
              "I     94.0\n",
              "Name: coluna1, dtype: float64"
            ]
          },
          "execution_count": 123,
          "metadata": {},
          "output_type": "execute_result"
        }
      ],
      "source": [
        "df['coluna1'].fillna(method='ffill')"
      ]
    },
    {
      "cell_type": "code",
      "execution_count": null,
      "metadata": {
        "ExecuteTime": {
          "end_time": "2021-05-29T13:21:02.649710Z",
          "start_time": "2021-05-29T13:21:02.633720Z"
        },
        "id": "MaYDz49ixvEE",
        "outputId": "0149133e-7265-452c-d550-44b9ac28408a"
      },
      "outputs": [
        {
          "data": {
            "text/plain": [
              "A    -23.0\n",
              "C      0.0\n",
              "F   -132.0\n",
              "H     94.0\n",
              "Name: coluna1, dtype: float64"
            ]
          },
          "execution_count": 124,
          "metadata": {},
          "output_type": "execute_result"
        }
      ],
      "source": [
        "df['coluna1'].dropna()"
      ]
    },
    {
      "cell_type": "code",
      "execution_count": null,
      "metadata": {
        "ExecuteTime": {
          "end_time": "2021-05-29T13:24:21.334336Z",
          "start_time": "2021-05-29T13:24:21.322344Z"
        },
        "id": "S-kcknnSxvEE",
        "outputId": "d242af03-d789-4b49-d856-7f4a66422683"
      },
      "outputs": [
        {
          "data": {
            "text/html": [
              "<div>\n",
              "<style scoped>\n",
              "    .dataframe tbody tr th:only-of-type {\n",
              "        vertical-align: middle;\n",
              "    }\n",
              "\n",
              "    .dataframe tbody tr th {\n",
              "        vertical-align: top;\n",
              "    }\n",
              "\n",
              "    .dataframe thead th {\n",
              "        text-align: right;\n",
              "    }\n",
              "</style>\n",
              "<table border=\"1\" class=\"dataframe\">\n",
              "  <thead>\n",
              "    <tr style=\"text-align: right;\">\n",
              "      <th></th>\n",
              "      <th>coluna1</th>\n",
              "      <th>coluna2</th>\n",
              "      <th>coluna3</th>\n",
              "      <th>coluna4</th>\n",
              "    </tr>\n",
              "  </thead>\n",
              "  <tbody>\n",
              "    <tr>\n",
              "      <th>A</th>\n",
              "      <td>-23.0</td>\n",
              "      <td>-29.152840</td>\n",
              "      <td>-104.97703793385477</td>\n",
              "      <td>185.956438</td>\n",
              "    </tr>\n",
              "    <tr>\n",
              "      <th>C</th>\n",
              "      <td>0.0</td>\n",
              "      <td>-23.929166</td>\n",
              "      <td>200.88491360300534</td>\n",
              "      <td>1.188890</td>\n",
              "    </tr>\n",
              "    <tr>\n",
              "      <th>F</th>\n",
              "      <td>-132.0</td>\n",
              "      <td>27.891742</td>\n",
              "      <td>-146.61819382562678</td>\n",
              "      <td>69.352880</td>\n",
              "    </tr>\n",
              "    <tr>\n",
              "      <th>H</th>\n",
              "      <td>94.0</td>\n",
              "      <td>-63.401987</td>\n",
              "      <td>-26.482816708266604</td>\n",
              "      <td>-80.205045</td>\n",
              "    </tr>\n",
              "  </tbody>\n",
              "</table>\n",
              "</div>"
            ],
            "text/plain": [
              "   coluna1    coluna2              coluna3     coluna4\n",
              "A    -23.0 -29.152840  -104.97703793385477  185.956438\n",
              "C      0.0 -23.929166   200.88491360300534    1.188890\n",
              "F   -132.0  27.891742  -146.61819382562678   69.352880\n",
              "H     94.0 -63.401987  -26.482816708266604  -80.205045"
            ]
          },
          "execution_count": 128,
          "metadata": {},
          "output_type": "execute_result"
        }
      ],
      "source": [
        "# dropar todas as linhas que tenha pelo menos 1 NA\n",
        "df.dropna()"
      ]
    },
    {
      "cell_type": "markdown",
      "metadata": {
        "id": "gJ3MoxZZxvEE"
      },
      "source": [
        "# 5. Dados duplicados <a name=\"duplicados\"></a>\n",
        "<div style=\"text-align: right\"\n",
        "     \n",
        "[Voltar ao índice](#Contents)"
      ]
    },
    {
      "cell_type": "code",
      "execution_count": null,
      "metadata": {
        "ExecuteTime": {
          "end_time": "2021-05-29T13:27:46.263931Z",
          "start_time": "2021-05-29T13:27:46.244941Z"
        },
        "id": "kHA6D4HCxvEE",
        "outputId": "3567212e-70f6-4699-dd66-4bc63cdf5ecb"
      },
      "outputs": [
        {
          "data": {
            "text/html": [
              "<div>\n",
              "<style scoped>\n",
              "    .dataframe tbody tr th:only-of-type {\n",
              "        vertical-align: middle;\n",
              "    }\n",
              "\n",
              "    .dataframe tbody tr th {\n",
              "        vertical-align: top;\n",
              "    }\n",
              "\n",
              "    .dataframe thead th {\n",
              "        text-align: right;\n",
              "    }\n",
              "</style>\n",
              "<table border=\"1\" class=\"dataframe\">\n",
              "  <thead>\n",
              "    <tr style=\"text-align: right;\">\n",
              "      <th></th>\n",
              "      <th>coluna1</th>\n",
              "      <th>coluna2</th>\n",
              "      <th>coluna3</th>\n",
              "      <th>coluna4</th>\n",
              "    </tr>\n",
              "  </thead>\n",
              "  <tbody>\n",
              "    <tr>\n",
              "      <th>A</th>\n",
              "      <td>-23.0</td>\n",
              "      <td>-29.152840</td>\n",
              "      <td>-104.97703793385477</td>\n",
              "      <td>185.956438</td>\n",
              "    </tr>\n",
              "    <tr>\n",
              "      <th>B</th>\n",
              "      <td>NaN</td>\n",
              "      <td>98.455629</td>\n",
              "      <td>-56.63918289481432</td>\n",
              "      <td>137.164956</td>\n",
              "    </tr>\n",
              "    <tr>\n",
              "      <th>C</th>\n",
              "      <td>0.0</td>\n",
              "      <td>-23.929166</td>\n",
              "      <td>200.88491360300534</td>\n",
              "      <td>1.188890</td>\n",
              "    </tr>\n",
              "    <tr>\n",
              "      <th>D</th>\n",
              "      <td>NaN</td>\n",
              "      <td>-21.026139</td>\n",
              "      <td>-27.933020884056358</td>\n",
              "      <td>87.437026</td>\n",
              "    </tr>\n",
              "    <tr>\n",
              "      <th>D</th>\n",
              "      <td>NaN</td>\n",
              "      <td>-21.026139</td>\n",
              "      <td>-27.933020884056358</td>\n",
              "      <td>87.437026</td>\n",
              "    </tr>\n",
              "    <tr>\n",
              "      <th>E</th>\n",
              "      <td>NaN</td>\n",
              "      <td>192.406008</td>\n",
              "      <td>NaN</td>\n",
              "      <td>NaN</td>\n",
              "    </tr>\n",
              "    <tr>\n",
              "      <th>E</th>\n",
              "      <td>NaN</td>\n",
              "      <td>192.406008</td>\n",
              "      <td>NaN</td>\n",
              "      <td>NaN</td>\n",
              "    </tr>\n",
              "    <tr>\n",
              "      <th>F</th>\n",
              "      <td>-132.0</td>\n",
              "      <td>27.891742</td>\n",
              "      <td>-146.61819382562678</td>\n",
              "      <td>69.352880</td>\n",
              "    </tr>\n",
              "    <tr>\n",
              "      <th>F</th>\n",
              "      <td>-132.0</td>\n",
              "      <td>27.891742</td>\n",
              "      <td>-146.61819382562678</td>\n",
              "      <td>69.352880</td>\n",
              "    </tr>\n",
              "    <tr>\n",
              "      <th>G</th>\n",
              "      <td>NaN</td>\n",
              "      <td>-96.661886</td>\n",
              "      <td>8.047981030796791</td>\n",
              "      <td>148.596987</td>\n",
              "    </tr>\n",
              "    <tr>\n",
              "      <th>G</th>\n",
              "      <td>NaN</td>\n",
              "      <td>-96.661886</td>\n",
              "      <td>8.047981030796791</td>\n",
              "      <td>148.596987</td>\n",
              "    </tr>\n",
              "    <tr>\n",
              "      <th>H</th>\n",
              "      <td>94.0</td>\n",
              "      <td>-63.401987</td>\n",
              "      <td>-26.482816708266604</td>\n",
              "      <td>-80.205045</td>\n",
              "    </tr>\n",
              "    <tr>\n",
              "      <th>H</th>\n",
              "      <td>94.0</td>\n",
              "      <td>-63.401987</td>\n",
              "      <td>-26.482816708266604</td>\n",
              "      <td>-80.205045</td>\n",
              "    </tr>\n",
              "    <tr>\n",
              "      <th>I</th>\n",
              "      <td>NaN</td>\n",
              "      <td>-131.551463</td>\n",
              "      <td>131.37483723481265</td>\n",
              "      <td>NaN</td>\n",
              "    </tr>\n",
              "  </tbody>\n",
              "</table>\n",
              "</div>"
            ],
            "text/plain": [
              "   coluna1     coluna2              coluna3     coluna4\n",
              "A    -23.0  -29.152840  -104.97703793385477  185.956438\n",
              "B      NaN   98.455629   -56.63918289481432  137.164956\n",
              "C      0.0  -23.929166   200.88491360300534    1.188890\n",
              "D      NaN  -21.026139  -27.933020884056358   87.437026\n",
              "D      NaN  -21.026139  -27.933020884056358   87.437026\n",
              "E      NaN  192.406008                  NaN         NaN\n",
              "E      NaN  192.406008                  NaN         NaN\n",
              "F   -132.0   27.891742  -146.61819382562678   69.352880\n",
              "F   -132.0   27.891742  -146.61819382562678   69.352880\n",
              "G      NaN  -96.661886    8.047981030796791  148.596987\n",
              "G      NaN  -96.661886    8.047981030796791  148.596987\n",
              "H     94.0  -63.401987  -26.482816708266604  -80.205045\n",
              "H     94.0  -63.401987  -26.482816708266604  -80.205045\n",
              "I      NaN -131.551463   131.37483723481265         NaN"
            ]
          },
          "execution_count": 135,
          "metadata": {},
          "output_type": "execute_result"
        }
      ],
      "source": [
        "df_dup = df.append(df.loc['D':'H',:]).sort_index()\n",
        "df_dup"
      ]
    },
    {
      "cell_type": "code",
      "execution_count": null,
      "metadata": {
        "ExecuteTime": {
          "end_time": "2021-05-29T13:30:40.658624Z",
          "start_time": "2021-05-29T13:30:40.642623Z"
        },
        "id": "SL1TsuNpxvEF",
        "outputId": "8ad9f15e-e840-4777-881e-ea908de20bb1"
      },
      "outputs": [
        {
          "data": {
            "text/html": [
              "<div>\n",
              "<style scoped>\n",
              "    .dataframe tbody tr th:only-of-type {\n",
              "        vertical-align: middle;\n",
              "    }\n",
              "\n",
              "    .dataframe tbody tr th {\n",
              "        vertical-align: top;\n",
              "    }\n",
              "\n",
              "    .dataframe thead th {\n",
              "        text-align: right;\n",
              "    }\n",
              "</style>\n",
              "<table border=\"1\" class=\"dataframe\">\n",
              "  <thead>\n",
              "    <tr style=\"text-align: right;\">\n",
              "      <th></th>\n",
              "      <th>coluna1</th>\n",
              "      <th>coluna2</th>\n",
              "      <th>coluna3</th>\n",
              "      <th>coluna4</th>\n",
              "    </tr>\n",
              "  </thead>\n",
              "  <tbody>\n",
              "    <tr>\n",
              "      <th>A</th>\n",
              "      <td>-23.0</td>\n",
              "      <td>-29.152840</td>\n",
              "      <td>-104.97703793385477</td>\n",
              "      <td>185.956438</td>\n",
              "    </tr>\n",
              "    <tr>\n",
              "      <th>B</th>\n",
              "      <td>NaN</td>\n",
              "      <td>98.455629</td>\n",
              "      <td>-56.63918289481432</td>\n",
              "      <td>137.164956</td>\n",
              "    </tr>\n",
              "    <tr>\n",
              "      <th>C</th>\n",
              "      <td>0.0</td>\n",
              "      <td>-23.929166</td>\n",
              "      <td>200.88491360300534</td>\n",
              "      <td>1.188890</td>\n",
              "    </tr>\n",
              "    <tr>\n",
              "      <th>D</th>\n",
              "      <td>NaN</td>\n",
              "      <td>-21.026139</td>\n",
              "      <td>-27.933020884056358</td>\n",
              "      <td>87.437026</td>\n",
              "    </tr>\n",
              "    <tr>\n",
              "      <th>E</th>\n",
              "      <td>NaN</td>\n",
              "      <td>192.406008</td>\n",
              "      <td>NaN</td>\n",
              "      <td>NaN</td>\n",
              "    </tr>\n",
              "    <tr>\n",
              "      <th>F</th>\n",
              "      <td>-132.0</td>\n",
              "      <td>27.891742</td>\n",
              "      <td>-146.61819382562678</td>\n",
              "      <td>69.352880</td>\n",
              "    </tr>\n",
              "    <tr>\n",
              "      <th>G</th>\n",
              "      <td>NaN</td>\n",
              "      <td>-96.661886</td>\n",
              "      <td>8.047981030796791</td>\n",
              "      <td>148.596987</td>\n",
              "    </tr>\n",
              "    <tr>\n",
              "      <th>H</th>\n",
              "      <td>94.0</td>\n",
              "      <td>-63.401987</td>\n",
              "      <td>-26.482816708266604</td>\n",
              "      <td>-80.205045</td>\n",
              "    </tr>\n",
              "    <tr>\n",
              "      <th>I</th>\n",
              "      <td>NaN</td>\n",
              "      <td>-131.551463</td>\n",
              "      <td>131.37483723481265</td>\n",
              "      <td>NaN</td>\n",
              "    </tr>\n",
              "  </tbody>\n",
              "</table>\n",
              "</div>"
            ],
            "text/plain": [
              "   coluna1     coluna2              coluna3     coluna4\n",
              "A    -23.0  -29.152840  -104.97703793385477  185.956438\n",
              "B      NaN   98.455629   -56.63918289481432  137.164956\n",
              "C      0.0  -23.929166   200.88491360300534    1.188890\n",
              "D      NaN  -21.026139  -27.933020884056358   87.437026\n",
              "E      NaN  192.406008                  NaN         NaN\n",
              "F   -132.0   27.891742  -146.61819382562678   69.352880\n",
              "G      NaN  -96.661886    8.047981030796791  148.596987\n",
              "H     94.0  -63.401987  -26.482816708266604  -80.205045\n",
              "I      NaN -131.551463   131.37483723481265         NaN"
            ]
          },
          "execution_count": 139,
          "metadata": {},
          "output_type": "execute_result"
        }
      ],
      "source": [
        "df_dup.drop_duplicates()"
      ]
    },
    {
      "cell_type": "code",
      "execution_count": null,
      "metadata": {
        "ExecuteTime": {
          "end_time": "2021-05-29T13:30:33.567549Z",
          "start_time": "2021-05-29T13:30:33.544582Z"
        },
        "id": "VfurVUbYxvEF",
        "outputId": "36ee359f-91d7-45f4-f39d-669027a87598"
      },
      "outputs": [
        {
          "data": {
            "text/html": [
              "<div>\n",
              "<style scoped>\n",
              "    .dataframe tbody tr th:only-of-type {\n",
              "        vertical-align: middle;\n",
              "    }\n",
              "\n",
              "    .dataframe tbody tr th {\n",
              "        vertical-align: top;\n",
              "    }\n",
              "\n",
              "    .dataframe thead th {\n",
              "        text-align: right;\n",
              "    }\n",
              "</style>\n",
              "<table border=\"1\" class=\"dataframe\">\n",
              "  <thead>\n",
              "    <tr style=\"text-align: right;\">\n",
              "      <th></th>\n",
              "      <th>coluna1</th>\n",
              "      <th>coluna2</th>\n",
              "      <th>coluna3</th>\n",
              "      <th>coluna4</th>\n",
              "    </tr>\n",
              "  </thead>\n",
              "  <tbody>\n",
              "    <tr>\n",
              "      <th>A</th>\n",
              "      <td>-23.0</td>\n",
              "      <td>-29.152840</td>\n",
              "      <td>-104.97703793385477</td>\n",
              "      <td>185.956438</td>\n",
              "    </tr>\n",
              "    <tr>\n",
              "      <th>B</th>\n",
              "      <td>NaN</td>\n",
              "      <td>98.455629</td>\n",
              "      <td>-56.63918289481432</td>\n",
              "      <td>137.164956</td>\n",
              "    </tr>\n",
              "    <tr>\n",
              "      <th>C</th>\n",
              "      <td>0.0</td>\n",
              "      <td>-23.929166</td>\n",
              "      <td>200.88491360300534</td>\n",
              "      <td>1.188890</td>\n",
              "    </tr>\n",
              "    <tr>\n",
              "      <th>F</th>\n",
              "      <td>-132.0</td>\n",
              "      <td>27.891742</td>\n",
              "      <td>-146.61819382562678</td>\n",
              "      <td>69.352880</td>\n",
              "    </tr>\n",
              "    <tr>\n",
              "      <th>H</th>\n",
              "      <td>94.0</td>\n",
              "      <td>-63.401987</td>\n",
              "      <td>-26.482816708266604</td>\n",
              "      <td>-80.205045</td>\n",
              "    </tr>\n",
              "  </tbody>\n",
              "</table>\n",
              "</div>"
            ],
            "text/plain": [
              "   coluna1    coluna2              coluna3     coluna4\n",
              "A    -23.0 -29.152840  -104.97703793385477  185.956438\n",
              "B      NaN  98.455629   -56.63918289481432  137.164956\n",
              "C      0.0 -23.929166   200.88491360300534    1.188890\n",
              "F   -132.0  27.891742  -146.61819382562678   69.352880\n",
              "H     94.0 -63.401987  -26.482816708266604  -80.205045"
            ]
          },
          "execution_count": 138,
          "metadata": {},
          "output_type": "execute_result"
        }
      ],
      "source": [
        "df_dup.drop_duplicates(subset=['coluna1'])"
      ]
    },
    {
      "cell_type": "code",
      "execution_count": null,
      "metadata": {
        "ExecuteTime": {
          "end_time": "2021-05-29T13:32:13.123617Z",
          "start_time": "2021-05-29T13:32:13.105619Z"
        },
        "id": "ZIckgdegxvEF",
        "outputId": "b0944387-83a8-426a-bdb9-ebb138d5eddb"
      },
      "outputs": [
        {
          "data": {
            "text/plain": [
              "A    False\n",
              "B    False\n",
              "C    False\n",
              "D    False\n",
              "D     True\n",
              "E    False\n",
              "E     True\n",
              "F    False\n",
              "F     True\n",
              "G    False\n",
              "G     True\n",
              "H    False\n",
              "H     True\n",
              "I    False\n",
              "dtype: bool"
            ]
          },
          "execution_count": 142,
          "metadata": {},
          "output_type": "execute_result"
        }
      ],
      "source": [
        "df_dup.duplicated()"
      ]
    },
    {
      "cell_type": "code",
      "execution_count": null,
      "metadata": {
        "ExecuteTime": {
          "end_time": "2021-05-29T13:31:30.812257Z",
          "start_time": "2021-05-29T13:31:30.799265Z"
        },
        "id": "sD3xnNqPxvEF",
        "outputId": "2e6b1657-a4cd-4dbf-cb61-68ad0f921da4"
      },
      "outputs": [
        {
          "data": {
            "text/html": [
              "<div>\n",
              "<style scoped>\n",
              "    .dataframe tbody tr th:only-of-type {\n",
              "        vertical-align: middle;\n",
              "    }\n",
              "\n",
              "    .dataframe tbody tr th {\n",
              "        vertical-align: top;\n",
              "    }\n",
              "\n",
              "    .dataframe thead th {\n",
              "        text-align: right;\n",
              "    }\n",
              "</style>\n",
              "<table border=\"1\" class=\"dataframe\">\n",
              "  <thead>\n",
              "    <tr style=\"text-align: right;\">\n",
              "      <th></th>\n",
              "      <th>coluna1</th>\n",
              "      <th>coluna2</th>\n",
              "      <th>coluna3</th>\n",
              "      <th>coluna4</th>\n",
              "    </tr>\n",
              "  </thead>\n",
              "  <tbody>\n",
              "    <tr>\n",
              "      <th>D</th>\n",
              "      <td>NaN</td>\n",
              "      <td>-21.026139</td>\n",
              "      <td>-27.933020884056358</td>\n",
              "      <td>87.437026</td>\n",
              "    </tr>\n",
              "    <tr>\n",
              "      <th>E</th>\n",
              "      <td>NaN</td>\n",
              "      <td>192.406008</td>\n",
              "      <td>NaN</td>\n",
              "      <td>NaN</td>\n",
              "    </tr>\n",
              "    <tr>\n",
              "      <th>F</th>\n",
              "      <td>-132.0</td>\n",
              "      <td>27.891742</td>\n",
              "      <td>-146.61819382562678</td>\n",
              "      <td>69.352880</td>\n",
              "    </tr>\n",
              "    <tr>\n",
              "      <th>G</th>\n",
              "      <td>NaN</td>\n",
              "      <td>-96.661886</td>\n",
              "      <td>8.047981030796791</td>\n",
              "      <td>148.596987</td>\n",
              "    </tr>\n",
              "    <tr>\n",
              "      <th>H</th>\n",
              "      <td>94.0</td>\n",
              "      <td>-63.401987</td>\n",
              "      <td>-26.482816708266604</td>\n",
              "      <td>-80.205045</td>\n",
              "    </tr>\n",
              "  </tbody>\n",
              "</table>\n",
              "</div>"
            ],
            "text/plain": [
              "   coluna1     coluna2              coluna3     coluna4\n",
              "D      NaN  -21.026139  -27.933020884056358   87.437026\n",
              "E      NaN  192.406008                  NaN         NaN\n",
              "F   -132.0   27.891742  -146.61819382562678   69.352880\n",
              "G      NaN  -96.661886    8.047981030796791  148.596987\n",
              "H     94.0  -63.401987  -26.482816708266604  -80.205045"
            ]
          },
          "execution_count": 141,
          "metadata": {},
          "output_type": "execute_result"
        }
      ],
      "source": [
        "df_dup[df_dup.duplicated()]"
      ]
    },
    {
      "cell_type": "markdown",
      "metadata": {
        "id": "Tcyz-QZQxvEF"
      },
      "source": [
        "# 6. Mapeamentos <a name=\"map\"></a>\n",
        "<div style=\"text-align: right\"\n",
        "     \n",
        "[Voltar ao índice](#Contents)"
      ]
    },
    {
      "cell_type": "code",
      "execution_count": null,
      "metadata": {
        "ExecuteTime": {
          "end_time": "2021-05-29T13:42:45.956899Z",
          "start_time": "2021-05-29T13:42:45.942908Z"
        },
        "id": "hK2Whu7yxvEF",
        "outputId": "8a56cee0-e58b-426d-be49-20d3ea71a1f4"
      },
      "outputs": [
        {
          "data": {
            "text/plain": [
              "0     1\n",
              "1     0\n",
              "2     1\n",
              "3     1\n",
              "4     1\n",
              "5     1\n",
              "6     0\n",
              "7     0\n",
              "8     0\n",
              "9     1\n",
              "10    1\n",
              "11    0\n",
              "dtype: int64"
            ]
          },
          "execution_count": 145,
          "metadata": {},
          "output_type": "execute_result"
        }
      ],
      "source": [
        "# 1 feminino, 0 masculino\n",
        "genero = pd.Series([1,0,1,1,1,1,0,0,0,1,1,0])\n",
        "genero"
      ]
    },
    {
      "cell_type": "code",
      "execution_count": null,
      "metadata": {
        "ExecuteTime": {
          "end_time": "2021-05-29T14:05:13.576793Z",
          "start_time": "2021-05-29T14:05:13.554796Z"
        },
        "id": "2TlHdEDixvEF",
        "outputId": "b9443a50-dfe7-4149-fad1-c985d793285f"
      },
      "outputs": [
        {
          "data": {
            "text/plain": [
              "0      Feminino\n",
              "1     Masculino\n",
              "2      Feminino\n",
              "3      Feminino\n",
              "4      Feminino\n",
              "5      Feminino\n",
              "6     Masculino\n",
              "7     Masculino\n",
              "8     Masculino\n",
              "9      Feminino\n",
              "10     Feminino\n",
              "11    Masculino\n",
              "dtype: object"
            ]
          },
          "execution_count": 146,
          "metadata": {},
          "output_type": "execute_result"
        }
      ],
      "source": [
        "genero.map({1:'Feminino', 0:'Masculino'})"
      ]
    },
    {
      "cell_type": "code",
      "execution_count": null,
      "metadata": {
        "ExecuteTime": {
          "end_time": "2021-05-29T14:08:05.814253Z",
          "start_time": "2021-05-29T14:08:05.801261Z"
        },
        "id": "S56oiTurxvEF"
      },
      "outputs": [],
      "source": [
        "genero_2 = genero.map({1:'Feminino', 0:'Masculino'})"
      ]
    },
    {
      "cell_type": "code",
      "execution_count": null,
      "metadata": {
        "ExecuteTime": {
          "end_time": "2021-05-29T14:05:34.230006Z",
          "start_time": "2021-05-29T14:05:34.210016Z"
        },
        "id": "ugpXZjZ2xvEG",
        "outputId": "a5ea02a6-b114-4243-d56a-34f1b17ed2f1"
      },
      "outputs": [
        {
          "data": {
            "text/plain": [
              "0     Feminino\n",
              "1          NaN\n",
              "2     Feminino\n",
              "3     Feminino\n",
              "4     Feminino\n",
              "5     Feminino\n",
              "6          NaN\n",
              "7          NaN\n",
              "8          NaN\n",
              "9     Feminino\n",
              "10    Feminino\n",
              "11         NaN\n",
              "dtype: object"
            ]
          },
          "execution_count": 147,
          "metadata": {},
          "output_type": "execute_result"
        }
      ],
      "source": [
        "genero.map({1:'Feminino', 2:'Masculino'})"
      ]
    },
    {
      "cell_type": "code",
      "execution_count": null,
      "metadata": {
        "ExecuteTime": {
          "end_time": "2021-05-29T14:08:11.654002Z",
          "start_time": "2021-05-29T14:08:11.637012Z"
        },
        "id": "yGmeefMCxvEG",
        "outputId": "5d01988b-84b8-4f8f-8411-2feec46be85f"
      },
      "outputs": [
        {
          "data": {
            "text/plain": [
              "0      Genero: Feminino\n",
              "1     Genero: Masculino\n",
              "2      Genero: Feminino\n",
              "3      Genero: Feminino\n",
              "4      Genero: Feminino\n",
              "5      Genero: Feminino\n",
              "6     Genero: Masculino\n",
              "7     Genero: Masculino\n",
              "8     Genero: Masculino\n",
              "9      Genero: Feminino\n",
              "10     Genero: Feminino\n",
              "11    Genero: Masculino\n",
              "dtype: object"
            ]
          },
          "execution_count": 153,
          "metadata": {},
          "output_type": "execute_result"
        }
      ],
      "source": [
        "genero_2.map('Genero: {}'.format)"
      ]
    }
  ],
  "metadata": {
    "kernelspec": {
      "display_name": "Python 3",
      "language": "python",
      "name": "python3"
    },
    "language_info": {
      "codemirror_mode": {
        "name": "ipython",
        "version": 3
      },
      "file_extension": ".py",
      "mimetype": "text/x-python",
      "name": "python",
      "nbconvert_exporter": "python",
      "pygments_lexer": "ipython3",
      "version": "3.8.5"
    },
    "varInspector": {
      "cols": {
        "lenName": 16,
        "lenType": 16,
        "lenVar": 40
      },
      "kernels_config": {
        "python": {
          "delete_cmd_postfix": "",
          "delete_cmd_prefix": "del ",
          "library": "var_list.py",
          "varRefreshCmd": "print(var_dic_list())"
        },
        "r": {
          "delete_cmd_postfix": ") ",
          "delete_cmd_prefix": "rm(",
          "library": "var_list.r",
          "varRefreshCmd": "cat(var_dic_list()) "
        }
      },
      "types_to_exclude": [
        "module",
        "function",
        "builtin_function_or_method",
        "instance",
        "_Feature"
      ],
      "window_display": false
    },
    "colab": {
      "provenance": []
    }
  },
  "nbformat": 4,
  "nbformat_minor": 0
}